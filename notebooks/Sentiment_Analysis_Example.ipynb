{
 "cells": [
  {
   "cell_type": "markdown",
   "id": "126553eb",
   "metadata": {},
   "source": [
    "# Sentiment Analysis Using Python\n",
    "\n",
    "A step-by-step guide to performing sentiment analysis."
   ]
  },
  {
   "cell_type": "markdown",
   "id": "1e696cac",
   "metadata": {},
   "source": [
    "## Introduction to Sentiment Analysis\n",
    "\n",
    "*Explanation of sentiment analysis and its applications.*"
   ]
  },
  {
   "cell_type": "code",
   "execution_count": null,
   "id": "a8ebb7ce",
   "metadata": {},
   "outputs": [],
   "source": [
    "# Install necessary libraries\n",
    "# !pip install numpy pandas scikit-learn nltk matplotlib"
   ]
  },
  {
   "cell_type": "markdown",
   "id": "e67ae5bb",
   "metadata": {},
   "source": [
    "## Setting Up the Environment\n",
    "\n",
    "*Importing necessary libraries.*"
   ]
  },
  {
   "cell_type": "code",
   "execution_count": null,
   "id": "a26f4867",
   "metadata": {},
   "outputs": [],
   "source": [
    "import numpy as np\n",
    "import pandas as pd\n",
    "import matplotlib.pyplot as plt\n",
    "from sklearn.model_selection import train_test_split\n",
    "import nltk"
   ]
  },
  {
   "cell_type": "markdown",
   "id": "d03e1967",
   "metadata": {},
   "source": [
    "## Data Collection and Preprocessing\n",
    "\n",
    "*Loading and preprocessing data.*"
   ]
  },
  {
   "cell_type": "code",
   "execution_count": null,
   "id": "f3958b15",
   "metadata": {},
   "outputs": [],
   "source": [
    "# Data loading and preprocessing code goes here\n",
    "# Load the public wiki data\n",
    "# https://www.kaggle.com/jrobischon/wikipedia-movie-plots\n",
    "wiki_data = pd.read_csv('wiki_movie_plots_deduped.csv')\n",
    "wiki_data = wiki_data[['Plot', 'Genre']]\n",
    "# Remove rows with missing values\n",
    "wiki_data = wiki_data.dropna()\n",
    "# Remove rows with multiple genres\n",
    "wiki_data = wiki_data[wiki_data['Genre'].str.contains(',') == False]\n",
    "# Remove rows with genres that are not in the top 10\n",
    "top_10_genres = ['drama', 'comedy', 'horror', 'action', 'thriller', 'romance', 'western', 'crime', 'adventure', 'musical']\n",
    "wiki_data = wiki_data[wiki_data['Genre'].isin(top_10_genres)]\n",
    "# Remove rows with plots that are less than 100 words\n",
    "wiki_data['Plot_Length'] = wiki_data['Plot'].str.split().str.len()\n",
    "wiki_data = wiki_data[wiki_data['Plot_Length'] >= 100]\n",
    "# Remove rows with plots that are more than 500 words\n",
    "wiki_data = wiki_data[wiki_data['Plot_Length'] <= 500]\n",
    "# Remove rows with plots that are less than 100 words\n",
    "wiki_data = wiki_data[wiki_data['Plot_Length'] >= 100]\n",
    "\n",
    "# Split the data into training and testing sets\n",
    "train_data, test_data = train_test_split(wiki_data, test_size=0.2, random_state=42)\n",
    "\n"
   ]
  },
  {
   "cell_type": "markdown",
   "id": "acecf42c",
   "metadata": {},
   "source": [
    "## Exploratory Data Analysis\n",
    "\n",
    "*Visualizing and understanding the data.*"
   ]
  },
  {
   "cell_type": "code",
   "execution_count": null,
   "id": "9b148c77",
   "metadata": {},
   "outputs": [],
   "source": [
    "# Exploratory data analysis code goes here\n",
    "# Plot the distribution of genres\n",
    "plt.figure(figsize=(10, 5))\n",
    "wiki_data['Genre'].value_counts().plot(kind='bar')\n",
    "plt.title('Distribution of Genres')\n",
    "plt.xlabel('Genre')\n",
    "plt.ylabel('Count')\n",
    "plt.show()\n",
    "\n",
    "# Plot the distribution of plot lengths\n",
    "plt.figure(figsize=(10, 5))\n",
    "wiki_data['Plot_Length'].hist()\n",
    "plt.title('Distribution of Plot Lengths')\n"
   ]
  },
  {
   "cell_type": "markdown",
   "id": "2fe3eeb9",
   "metadata": {},
   "source": [
    "## Training a Sentiment Analysis Model\n",
    "\n",
    "*Model training and testing.*"
   ]
  },
  {
   "cell_type": "code",
   "execution_count": null,
   "id": "369b93ed",
   "metadata": {},
   "outputs": [],
   "source": [
    "# Model training code goes here\n",
    "# Import the necessary libraries\n",
    "from sklearn.feature_extraction.text import CountVectorizer\n",
    "from sklearn.linear_model import LogisticRegression\n",
    "from sklearn.metrics import accuracy_score\n",
    "\n",
    "# Create the bag of words vectorizer\n",
    "vectorizer = CountVectorizer(stop_words='english')\n",
    "# Fit the vectorizer to the training data\n",
    "vectorizer.fit(train_data['Plot'])\n",
    "# Transform the training data\n",
    "train_x = vectorizer.transform(train_data['Plot'])\n",
    "# Transform the testing data\n",
    "test_x = vectorizer.transform(test_data['Plot'])\n"
   ]
  },
  {
   "cell_type": "markdown",
   "id": "33fb3485",
   "metadata": {},
   "source": [
    "## Model Evaluation\n",
    "\n",
    "*Evaluating the model's performance.*"
   ]
  },
  {
   "cell_type": "code",
   "execution_count": null,
   "id": "57dc31d5",
   "metadata": {},
   "outputs": [],
   "source": [
    "# Model evaluation code goes here\n",
    "# Create the logistic regression model\n",
    "model = LogisticRegression()\n",
    "# Fit the model to the training data\n",
    "model.fit(train_x, train_data['Genre'])\n",
    "# Predict the genre of the testing data\n",
    "predictions = model.predict(test_x)\n",
    "# Calculate the accuracy of the model\n",
    "accuracy = accuracy_score(test_data['Genre'], predictions)\n",
    "print('Model Accuracy: ' + str(accuracy))\n"
   ]
  },
  {
   "cell_type": "markdown",
   "id": "c106c9b2",
   "metadata": {},
   "source": [
    "## Model Improvement\n",
    "\n",
    "*Improving and tuning the model.*"
   ]
  },
  {
   "cell_type": "code",
   "execution_count": null,
   "id": "e11b2244",
   "metadata": {},
   "outputs": [],
   "source": [
    "# Model improvement code goes here\n",
    "# Create the bag of words vectorizer\n",
    "vectorizer = CountVectorizer(stop_words='english', ngram_range=(1, 2))\n",
    "# Fit the vectorizer to the training data\n",
    "vectorizer.fit(train_data['Plot'])\n",
    "# Transform the training data\n",
    "train_x = vectorizer.transform(train_data['Plot'])\n",
    "# Transform the testing data\n",
    "test_x = vectorizer.transform(test_data['Plot'])\n",
    "# Create the logistic regression model\n",
    "model = LogisticRegression()\n",
    "# Fit the model to the training data\n",
    "model.fit(train_x, train_data['Genre'])\n",
    "# Predict the genre of the testing data\n",
    "predictions = model.predict(test_x)\n",
    "# Calculate the accuracy of the model\n",
    "accuracy = accuracy_score(test_data['Genre'], predictions)\n",
    "print('Model Accuracy: ' + str(accuracy))\n"
   ]
  },
  {
   "cell_type": "markdown",
   "id": "8dbb9cfe",
   "metadata": {},
   "source": [
    "## Visualizing Results\n",
    "\n",
    "*Visualizing the classification results.*"
   ]
  },
  {
   "cell_type": "code",
   "execution_count": null,
   "id": "2db5afe5",
   "metadata": {},
   "outputs": [],
   "source": [
    "# Result visualization code goes here\n",
    "# Create a confusion matrix\n",
    "from sklearn.metrics import confusion_matrix\n",
    "confusion_matrix = confusion_matrix(test_data['Genre'], predictions)\n",
    "# Create a dataframe from the confusion matrix\n",
    "confusion_matrix_df = pd.DataFrame(confusion_matrix, index=top_10_genres, columns=top_10_genres)\n",
    "# Plot the confusion matrix\n",
    "plt.figure(figsize=(10, 5))\n",
    "plt.title('Confusion Matrix')\n",
    "plt.xlabel('Predicted Genre')\n",
    "plt.ylabel('Actual Genre')\n",
    "plt.imshow(confusion_matrix_df, cmap='coolwarm', interpolation='nearest')\n",
    "plt.show()\n"
   ]
  },
  {
   "cell_type": "markdown",
   "id": "5470e61c",
   "metadata": {},
   "source": [
    "## Saving and Deploying the Model\n",
    "\n",
    "*How to save and deploy the model.*"
   ]
  },
  {
   "cell_type": "code",
   "execution_count": null,
   "id": "b96291d3",
   "metadata": {},
   "outputs": [],
   "source": [
    "# Model saving code goes here\n",
    "# Save the model\n",
    "import pickle\n",
    "pickle.dump(model, open('model.pkl', 'wb'))\n",
    "# Save the vectorizer\n",
    "pickle.dump(vectorizer, open('vectorizer.pkl', 'wb'))\n",
    "\n",
    "#Deployment code goes here\n",
    "# Load the model\n",
    "model = pickle.load(open('model.pkl', 'rb'))\n",
    "# Load the vectorizer\n",
    "vectorizer = pickle.load(open('vectorizer.pkl', 'rb'))\n",
    "\n",
    "# Create a function to predict the genre of a movie plot\n",
    "def predict_genre(plot):\n",
    "    # Transform the plot using the vectorizer\n",
    "    plot = vectorizer.transform([plot])\n",
    "    # Predict the genre using the model\n",
    "    genre = model.predict(plot)[0]\n",
    "    # Return the genre\n",
    "    return genre"
   ]
  },
  {
   "cell_type": "markdown",
   "id": "2368308c",
   "metadata": {},
   "source": [
    "## Conclusion\n",
    "\n",
    "*Summary and discussion of the project.*\n",
    "\n",
    "\n",
    "\n"
   ]
  },
  {
   "cell_type": "markdown",
   "id": "dfabb502",
   "metadata": {},
   "source": [
    "## References\n",
    "\n",
    "*List of references and further reading.*"
   ]
  }
 ],
 "metadata": {
  "language_info": {
   "name": "python"
  }
 },
 "nbformat": 4,
 "nbformat_minor": 5
}
